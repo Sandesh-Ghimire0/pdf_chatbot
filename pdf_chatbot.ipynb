{
 "cells": [
  {
   "cell_type": "code",
   "execution_count": 53,
   "id": "57281e05",
   "metadata": {},
   "outputs": [
    {
     "data": {
      "text/plain": [
       "True"
      ]
     },
     "execution_count": 53,
     "metadata": {},
     "output_type": "execute_result"
    }
   ],
   "source": [
    "import os\n",
    "\n",
    "# imports for openai\n",
    "import openai\n",
    "import PyPDF2\n",
    "from langchain.text_splitter import RecursiveCharacterTextSplitter\n",
    "from langchain_community.vectorstores import FAISS\n",
    "from langchain.chains import RetrievalQA\n",
    "from langchain_openai import OpenAI, OpenAIEmbeddings\n",
    "from langchain import PromptTemplate\n",
    "\n",
    "# imports for opensource llms\n",
    "from langchain_community.llms import HuggingFaceEndpoint\n",
    "from transformers import AutoTokenizer, AutoModelForSeq2SeqLM\n",
    "from transformers import pipeline\n",
    "from langchain.llms import HuggingFacePipeline\n",
    "from langchain.llms import ctransformers\n",
    "\n",
    "# import for api key access\n",
    "from dotenv import load_dotenv, find_dotenv\n",
    "load_dotenv(find_dotenv())"
   ]
  },
  {
   "cell_type": "code",
   "execution_count": 59,
   "id": "14572ada",
   "metadata": {},
   "outputs": [],
   "source": [
    "# pip install python-dotenv faiss-cpu langchain tiktoken openai langchain-openai ctransformers llama-cpp-python\n",
    "# !pip install llama-cpp-python"
   ]
  },
  {
   "cell_type": "code",
   "execution_count": 33,
   "id": "bdb3d6b0",
   "metadata": {},
   "outputs": [],
   "source": [
    "openai.api_key = os.getenv(\"OPENAI_API_KEY\")"
   ]
  },
  {
   "cell_type": "markdown",
   "id": "58fd1db5",
   "metadata": {},
   "source": [
    "## Collecting the text"
   ]
  },
  {
   "cell_type": "code",
   "execution_count": 34,
   "id": "1e77b8f2",
   "metadata": {},
   "outputs": [],
   "source": [
    "def get_text_from_pdf(pdf_file):\n",
    "    pdf_doc = PyPDF2.PdfReader(pdf_file)\n",
    "    pdf_text = ''\n",
    "    \n",
    "    for i,page in enumerate(pdf_doc.pages):\n",
    "        page_content = pdf_doc.pages[i].extract_text()\n",
    "        pdf_text += page_content\n",
    "    \n",
    "    return pdf_text\n",
    "    "
   ]
  },
  {
   "cell_type": "code",
   "execution_count": 35,
   "id": "fd97cf71",
   "metadata": {},
   "outputs": [],
   "source": [
    "text = get_text_from_pdf('machine_learning.pdf')"
   ]
  },
  {
   "cell_type": "markdown",
   "id": "784aaf89",
   "metadata": {},
   "source": [
    "## splitting the text"
   ]
  },
  {
   "cell_type": "code",
   "execution_count": 36,
   "id": "4fdd5458",
   "metadata": {},
   "outputs": [],
   "source": [
    "def get_text_chunks(text):\n",
    "    text_splitter = RecursiveCharacterTextSplitter(chunk_size=2000,chunk_overlap= 100)\n",
    "    text_chunks = text_splitter.split_text(text)\n",
    "    \n",
    "    return text_chunks"
   ]
  },
  {
   "cell_type": "code",
   "execution_count": 37,
   "id": "615d8873",
   "metadata": {},
   "outputs": [],
   "source": [
    "chunked_text = get_text_chunks(text)"
   ]
  },
  {
   "cell_type": "code",
   "execution_count": 38,
   "id": "65a26ccc",
   "metadata": {},
   "outputs": [
    {
     "data": {
      "text/plain": [
       "'insurance customers are likely to file their claims.  \\nUnsupervised Learning  \\nThis method of ML finds its application in areas were data has no historical labels. Here, the system will not be provided with the \\n\"right answer\" and the algorithm should identify what is being shown. The main aim here is to analyze the data and identify a  pattern and \\nstructure within the available data set. Transactional data serves as a good source of data set for unsupervised learning.  \\nFor instance, this type of learning identifies customer segments with similar attributes and then lets the business to treat them \\nsimilarly in marketing campaigns. Similarly, it can also identify attributes that differentiate custome r segments from one another. Either \\nways, it is about identifying a similar structure in the available data set. Besides, these algorithms can also identify outl iers in the available \\ndata sets.  \\nSome of the widely used techniques of unsupervised learning ar e - \\n\\uf0b7 k-means clustering  \\n\\uf0b7 self-organizing maps  \\n\\uf0b7 value decomposition  \\n\\uf0b7 mapping of nearest neighbor  \\n© 2019 IJRAR June 2019, Volume 6, Issue 2                                            www.ijrar.org  ( E-ISSN 2348 -1269, P - ISSN 2349 -5138 ) \\nIJRAR1ARP035  International Journal of Research and Analytical Reviews (IJRAR) www.ijrar.org  201 \\n Semi -supervised Learning  \\nThis kind of learning is used and applied to the same kind of scenarios where supervised learning is applicable. However, one  \\nmust note tha t this technique uses both unlabeled and labeled data for training. Ideally, a small set of labeled data, along with a large \\nvolume of unlabeled data is used, as it takes less time, money and efforts to acquire unlabeled data. This type of machine le arning  is often \\nused with methods, such as regression, classification and prediction. Companies that usually find it challenging to meet the high costs \\nassociated with labeled training process opt for semi -supervised learning.'"
      ]
     },
     "execution_count": 38,
     "metadata": {},
     "output_type": "execute_result"
    }
   ],
   "source": [
    "chunked_text[7]"
   ]
  },
  {
   "cell_type": "markdown",
   "id": "24064e30",
   "metadata": {},
   "source": [
    "## vector database"
   ]
  },
  {
   "cell_type": "code",
   "execution_count": 39,
   "id": "13d2409d",
   "metadata": {},
   "outputs": [],
   "source": [
    "openai_embedding = OpenAIEmbeddings()"
   ]
  },
  {
   "cell_type": "code",
   "execution_count": 40,
   "id": "f8e959c3",
   "metadata": {},
   "outputs": [],
   "source": [
    "vectorstore = FAISS.from_texts(texts=chunked_text, embedding=openai_embedding)"
   ]
  },
  {
   "cell_type": "code",
   "execution_count": 41,
   "id": "d3bce698",
   "metadata": {},
   "outputs": [],
   "source": [
    "retriever = vectorstore.as_retriever(search_kwargs={\"k\": 1})"
   ]
  },
  {
   "cell_type": "markdown",
   "id": "03fa44f0",
   "metadata": {},
   "source": [
    "## query"
   ]
  },
  {
   "cell_type": "code",
   "execution_count": 61,
   "id": "cfd90cce",
   "metadata": {},
   "outputs": [],
   "source": [
    "# model_name = \"OpenSourceModels/llama-2-7b-chat.Q5_K_M.gguf\"\n",
    "# tokenizer = AutoTokenizer.from_pretrained(model_name)\n",
    "# model = AutoModelForSeq2SeqLM.from_pretrained(model_name)\n",
    "\n",
    "\n",
    "# model_name = ctransformers(model='OpenSourceModels/llama-2-7b-chat.Q5_K_M.gguf')\n",
    "\n",
    "# from langchain_community.llms import LlamaCpp\n",
    "# llm = LlamaCpp(\n",
    "#     model_path=\"OpenSourceModels/llama-2-7b-chat.Q5_K_M.gguf\",\n",
    "#     f16_kv=True,  # MUST set to True, otherwise you will run into problem after a couple of calls\n",
    "#     verbose=True,\n",
    "# )"
   ]
  },
  {
   "cell_type": "code",
   "execution_count": null,
   "id": "a16bc02a",
   "metadata": {},
   "outputs": [],
   "source": []
  },
  {
   "cell_type": "code",
   "execution_count": 65,
   "id": "0220c1f1",
   "metadata": {},
   "outputs": [
    {
     "name": "stdout",
     "output_type": "stream",
     "text": [
      "Token has not been saved to git credential helper. Pass `add_to_git_credential=True` if you want to set the git credential as well.\n",
      "Token is valid (permission: read).\n",
      "Your token has been saved to C:\\Users\\sande\\.cache\\huggingface\\token\n",
      "Login successful\n"
     ]
    }
   ],
   "source": [
    "# llm = OpenAI()\n",
    "\n",
    "llm = HuggingFaceEndpoint(\n",
    "    repo_id=\"mistralai/Mistral-7B-Instruct-v0.2\",\n",
    "    temperature= 0.6\n",
    ")"
   ]
  },
  {
   "cell_type": "code",
   "execution_count": 66,
   "id": "b888f17a",
   "metadata": {},
   "outputs": [],
   "source": [
    "chain = RetrievalQA.from_chain_type(llm=llm,chain_type='stuff',retriever=retriever)"
   ]
  },
  {
   "cell_type": "code",
   "execution_count": 67,
   "id": "5d85d8b7",
   "metadata": {},
   "outputs": [],
   "source": [
    "question = \"what is the difference between machine learning and deep learning\"\n",
    "result = chain.invoke({'query':question})"
   ]
  },
  {
   "cell_type": "code",
   "execution_count": 68,
   "id": "2e955391",
   "metadata": {},
   "outputs": [
    {
     "name": "stdout",
     "output_type": "stream",
     "text": [
      " Machine learning is a subset of artificial intelligence that uses algorithms and statistical models to enable computers to learn from data without being explicitly programmed. Deep learning is a subset of machine learning that uses artificial neural networks with multiple layers to model high-level concepts. In other words, deep learning is a more complex form of machine learning that can automatically learn and extract features from data, while machine learning requires features to be manually engineered.\n"
     ]
    }
   ],
   "source": [
    "print(result['result'])"
   ]
  },
  {
   "cell_type": "markdown",
   "id": "e436abb3",
   "metadata": {},
   "source": [
    "## memory"
   ]
  },
  {
   "cell_type": "code",
   "execution_count": 69,
   "id": "3112f026",
   "metadata": {},
   "outputs": [],
   "source": [
    "from langchain.memory import ConversationBufferWindowMemory\n",
    "from langchain.chains import ConversationalRetrievalChain"
   ]
  },
  {
   "cell_type": "code",
   "execution_count": 70,
   "id": "a5d42f1f",
   "metadata": {},
   "outputs": [],
   "source": [
    "memory = ConversationBufferWindowMemory(\n",
    "    k=5,\n",
    "    memory_key=\"chat_history\",\n",
    "    output_key=\"answer\",\n",
    "    return_messages=True\n",
    ")\n",
    "\n",
    "\n",
    "chain = ConversationalRetrievalChain.from_llm(\n",
    "    llm=llm,\n",
    "    retriever=retriever,\n",
    "    memory = memory,\n",
    "        \n",
    ")"
   ]
  },
  {
   "cell_type": "code",
   "execution_count": 71,
   "id": "aa2310f3",
   "metadata": {},
   "outputs": [
    {
     "data": {
      "text/plain": [
       "{'question': 'where is nepal located',\n",
       " 'chat_history': [],\n",
       " 'answer': ' Nepal is a country located in South Asia, between China and India. It is not mentioned in the context, but the context does discuss several companies that are using machine learning technology in various ways to improve their businesses.'}"
      ]
     },
     "execution_count": 71,
     "metadata": {},
     "output_type": "execute_result"
    }
   ],
   "source": [
    "question = \"where is nepal located\"\n",
    "chain.invoke({\"question\":question})"
   ]
  },
  {
   "cell_type": "code",
   "execution_count": 72,
   "id": "e3d8c882",
   "metadata": {},
   "outputs": [
    {
     "data": {
      "text/plain": [
       "{'question': 'what is supervised learning',\n",
       " 'chat_history': [HumanMessage(content='where is nepal located'),\n",
       "  AIMessage(content=' Nepal is a country located in South Asia, between China and India. It is not mentioned in the context, but the context does discuss several companies that are using machine learning technology in various ways to improve their businesses.')],\n",
       " 'answer': '  Supervised learning is a type of machine learning method where the algorithm is trained using labeled examples. This means that the algorithm is provided with input data along with the correct output, allowing it to learn the relationship between the input and output. Supervised learning is commonly used in scenarios where historical data is used to predict events that are likely to occur in the future. Some common supervised learning techniques include regression, classification, gradient boosting, and prediction.'}"
      ]
     },
     "execution_count": 72,
     "metadata": {},
     "output_type": "execute_result"
    }
   ],
   "source": [
    "question = \"what is supervised learning\"\n",
    "chain.invoke({\"question\":question})"
   ]
  },
  {
   "cell_type": "code",
   "execution_count": 73,
   "id": "644e0d24",
   "metadata": {},
   "outputs": [
    {
     "data": {
      "text/plain": [
       "{'question': 'why is it important',\n",
       " 'chat_history': [HumanMessage(content='where is nepal located'),\n",
       "  AIMessage(content=' Nepal is a country located in South Asia, between China and India. It is not mentioned in the context, but the context does discuss several companies that are using machine learning technology in various ways to improve their businesses.'),\n",
       "  HumanMessage(content='what is supervised learning'),\n",
       "  AIMessage(content='  Supervised learning is a type of machine learning method where the algorithm is trained using labeled examples. This means that the algorithm is provided with input data along with the correct output, allowing it to learn the relationship between the input and output. Supervised learning is commonly used in scenarios where historical data is used to predict events that are likely to occur in the future. Some common supervised learning techniques include regression, classification, gradient boosting, and prediction.')],\n",
       " 'answer': ' Supervised learning is important in machine learning because it allows the algorithm to learn from labeled data, meaning the desired outcome is already known. This method is commonly used in areas where historical data is used to predict events that are likely to occur in the future, such as predicting whether a credit card transaction is likely to be fraudulent or predicting which customer is likely to churn. Supervised learning uses various methods like regression, classification, gradient boosting, and prediction to make accurate predictions based on patterns learned from the labeled data.'}"
      ]
     },
     "execution_count": 73,
     "metadata": {},
     "output_type": "execute_result"
    }
   ],
   "source": [
    "question = \"why is it important\"\n",
    "chain.invoke({\"question\":question})"
   ]
  },
  {
   "cell_type": "code",
   "execution_count": null,
   "id": "d51f7250",
   "metadata": {},
   "outputs": [],
   "source": [
    "question = \"how is it different from unsupervised learning\"\n",
    "chain.invoke({\"question\":question})"
   ]
  },
  {
   "cell_type": "code",
   "execution_count": null,
   "id": "4edc9410",
   "metadata": {},
   "outputs": [],
   "source": [
    "my_dict={\n",
    "    'value1':'this is the value 1',\n",
    "    'value2':'this is the value 2'\n",
    "}"
   ]
  },
  {
   "cell_type": "code",
   "execution_count": null,
   "id": "d017ab29",
   "metadata": {},
   "outputs": [],
   "source": [
    "for i in my_dict.values():\n",
    "    print(i)"
   ]
  },
  {
   "cell_type": "code",
   "execution_count": null,
   "id": "318ba5b1",
   "metadata": {},
   "outputs": [],
   "source": []
  }
 ],
 "metadata": {
  "kernelspec": {
   "display_name": "Python 3 (ipykernel)",
   "language": "python",
   "name": "python3"
  },
  "language_info": {
   "codemirror_mode": {
    "name": "ipython",
    "version": 3
   },
   "file_extension": ".py",
   "mimetype": "text/x-python",
   "name": "python",
   "nbconvert_exporter": "python",
   "pygments_lexer": "ipython3",
   "version": "3.11.5"
  }
 },
 "nbformat": 4,
 "nbformat_minor": 5
}
